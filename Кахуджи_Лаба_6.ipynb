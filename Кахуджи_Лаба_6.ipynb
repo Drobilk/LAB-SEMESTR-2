{
  "nbformat": 4,
  "nbformat_minor": 0,
  "metadata": {
    "colab": {
      "name": "Кахуджи Лаба 6",
      "provenance": [],
      "authorship_tag": "ABX9TyPVGRTDQSHlJ30LT9oSPxkQ",
      "include_colab_link": true
    },
    "kernelspec": {
      "name": "python3",
      "display_name": "Python 3"
    },
    "language_info": {
      "name": "python"
    }
  },
  "cells": [
    {
      "cell_type": "markdown",
      "metadata": {
        "id": "view-in-github",
        "colab_type": "text"
      },
      "source": [
        "<a href=\"https://colab.research.google.com/github/Drobilk/LAB-SEMESTR-2/blob/main/%D0%9A%D0%B0%D1%85%D1%83%D0%B4%D0%B6%D0%B8_%D0%9B%D0%B0%D0%B1%D0%B0_6.ipynb\" target=\"_parent\"><img src=\"https://colab.research.google.com/assets/colab-badge.svg\" alt=\"Open In Colab\"/></a>"
      ]
    },
    {
      "cell_type": "code",
      "metadata": {
        "id": "EJ75YS2HcugB"
      },
      "source": [
        "import requests\n",
        "import pandas as pd\n",
        "import seaborn as sns\n",
        "import matplotlib.pyplot as plt\n",
        "from matplotlib import pyplot\n",
        "#Importing the data from the webpage into a DataFrame\n",
        "url='https://en.wikipedia.org/wiki/List_of_highest-grossing_Indian_films'\n",
        "req=requests.get(url)\n",
        "data=pd.read_html(req.text)\n",
        "df=data[10]"
      ],
      "execution_count": null,
      "outputs": []
    },
    {
      "cell_type": "code",
      "metadata": {
        "colab": {
          "base_uri": "https://localhost:8080/"
        },
        "id": "A-wIHlGedKXZ",
        "outputId": "96a7c513-f155-4b75-afa7-52c7a860e6fe"
      },
      "source": [
        "df.info()"
      ],
      "execution_count": null,
      "outputs": [
        {
          "output_type": "stream",
          "text": [
            "<class 'pandas.core.frame.DataFrame'>\n",
            "RangeIndex: 10 entries, 0 to 9\n",
            "Data columns (total 7 columns):\n",
            " #   Column           Non-Null Count  Dtype \n",
            "---  ------           --------------  ----- \n",
            " 0   Rank             10 non-null     int64 \n",
            " 1   Film             10 non-null     object\n",
            " 2   Year             10 non-null     int64 \n",
            " 3   Director         10 non-null     object\n",
            " 4   Studio(s)        10 non-null     object\n",
            " 5   Worldwide gross  10 non-null     object\n",
            " 6   Source           10 non-null     object\n",
            "dtypes: int64(2), object(5)\n",
            "memory usage: 688.0+ bytes\n"
          ],
          "name": "stdout"
        }
      ]
    },
    {
      "cell_type": "code",
      "metadata": {
        "colab": {
          "base_uri": "https://localhost:8080/",
          "height": 374
        },
        "id": "-7mdCEUadjFV",
        "outputId": "1c482aa8-092b-48b1-e2c7-96e30d82bef1"
      },
      "source": [
        "df.head()"
      ],
      "execution_count": null,
      "outputs": [
        {
          "output_type": "execute_result",
          "data": {
            "text/html": [
              "<div>\n",
              "<style scoped>\n",
              "    .dataframe tbody tr th:only-of-type {\n",
              "        vertical-align: middle;\n",
              "    }\n",
              "\n",
              "    .dataframe tbody tr th {\n",
              "        vertical-align: top;\n",
              "    }\n",
              "\n",
              "    .dataframe thead th {\n",
              "        text-align: right;\n",
              "    }\n",
              "</style>\n",
              "<table border=\"1\" class=\"dataframe\">\n",
              "  <thead>\n",
              "    <tr style=\"text-align: right;\">\n",
              "      <th></th>\n",
              "      <th>Rank</th>\n",
              "      <th>Film</th>\n",
              "      <th>Year</th>\n",
              "      <th>Director</th>\n",
              "      <th>Studio(s)</th>\n",
              "      <th>Worldwide gross</th>\n",
              "      <th>Source</th>\n",
              "    </tr>\n",
              "  </thead>\n",
              "  <tbody>\n",
              "    <tr>\n",
              "      <th>0</th>\n",
              "      <td>1</td>\n",
              "      <td>Dangal</td>\n",
              "      <td>2016</td>\n",
              "      <td>Nitesh Tiwari</td>\n",
              "      <td>Aamir Khan Productions UTV Motion Pictures Wal...</td>\n",
              "      <td>₹2,024 crore (US$311 million)</td>\n",
              "      <td>[9]</td>\n",
              "    </tr>\n",
              "    <tr>\n",
              "      <th>1</th>\n",
              "      <td>2</td>\n",
              "      <td>Bajrangi Bhaijaan</td>\n",
              "      <td>2015</td>\n",
              "      <td>Kabir Khan</td>\n",
              "      <td>Salman Khan Films Kabir Khan Films Eros Intern...</td>\n",
              "      <td>₹969.06 crore (US$150 million)</td>\n",
              "      <td>[n 1]</td>\n",
              "    </tr>\n",
              "    <tr>\n",
              "      <th>2</th>\n",
              "      <td>3</td>\n",
              "      <td>Secret Superstar</td>\n",
              "      <td>2017</td>\n",
              "      <td>Advait Chandan</td>\n",
              "      <td>Aamir Khan Productions</td>\n",
              "      <td>₹966.86 crore (US$154 million)</td>\n",
              "      <td>[n 2]</td>\n",
              "    </tr>\n",
              "    <tr>\n",
              "      <th>3</th>\n",
              "      <td>4</td>\n",
              "      <td>PK</td>\n",
              "      <td>2014</td>\n",
              "      <td>Rajkumar Hirani</td>\n",
              "      <td>Vinod Chopra Films Rajkumar Hirani Films</td>\n",
              "      <td>₹832 crore (US$140 million)</td>\n",
              "      <td>[20][10]</td>\n",
              "    </tr>\n",
              "    <tr>\n",
              "      <th>4</th>\n",
              "      <td>5</td>\n",
              "      <td>Sultan</td>\n",
              "      <td>2016</td>\n",
              "      <td>Ali Abbas Zafar</td>\n",
              "      <td>Yash Raj Films</td>\n",
              "      <td>₹623.33 crore (US$89 million)</td>\n",
              "      <td>[25]</td>\n",
              "    </tr>\n",
              "  </tbody>\n",
              "</table>\n",
              "</div>"
            ],
            "text/plain": [
              "   Rank               Film  ...                 Worldwide gross    Source\n",
              "0     1             Dangal  ...   ₹2,024 crore (US$311 million)       [9]\n",
              "1     2  Bajrangi Bhaijaan  ...  ₹969.06 crore (US$150 million)     [n 1]\n",
              "2     3   Secret Superstar  ...  ₹966.86 crore (US$154 million)     [n 2]\n",
              "3     4                 PK  ...     ₹832 crore (US$140 million)  [20][10]\n",
              "4     5             Sultan  ...   ₹623.33 crore (US$89 million)      [25]\n",
              "\n",
              "[5 rows x 7 columns]"
            ]
          },
          "metadata": {
            "tags": []
          },
          "execution_count": 33
        }
      ]
    },
    {
      "cell_type": "code",
      "metadata": {
        "id": "u3kY_Y10dIWM"
      },
      "source": [
        "Y=df['Year']"
      ],
      "execution_count": null,
      "outputs": []
    },
    {
      "cell_type": "code",
      "metadata": {
        "id": "Ybqv-2HfeIuC"
      },
      "source": [
        "from numpy import mean\n",
        "from numpy import std"
      ],
      "execution_count": null,
      "outputs": []
    },
    {
      "cell_type": "code",
      "metadata": {
        "colab": {
          "base_uri": "https://localhost:8080/"
        },
        "id": "2a2M-cppeLDJ",
        "outputId": "62f7ac00-5297-4629-cce4-24ee89c6b4da"
      },
      "source": [
        "print('mean=%.3f std=%.3f' % (mean(Y), std(Y)))"
      ],
      "execution_count": null,
      "outputs": [
        {
          "output_type": "stream",
          "text": [
            "mean=2016.400 std=1.855\n"
          ],
          "name": "stdout"
        }
      ]
    },
    {
      "cell_type": "code",
      "metadata": {
        "colab": {
          "base_uri": "https://localhost:8080/",
          "height": 265
        },
        "id": "pyyQ7f8ieQk4",
        "outputId": "1c4279dd-7e4e-4c6e-85bf-7e8ac65d9917"
      },
      "source": [
        "pyplot.hist(Y)\n",
        "pyplot.show()"
      ],
      "execution_count": null,
      "outputs": [
        {
          "output_type": "display_data",
          "data": {
            "image/png": "[encoded data removed]",
            "text/plain": [
              "<Figure size 432x288 with 1 Axes>"
            ]
          },
          "metadata": {
            "tags": [],
            "needs_background": "light"
          }
        }
      ]
    },
    {
      "cell_type": "code",
      "metadata": {
        "colab": {
          "base_uri": "https://localhost:8080/",
          "height": 279
        },
        "id": "5VtywhqYfSBk",
        "outputId": "5807fdbf-1777-4ce0-961d-f7748dd21316"
      },
      "source": [
        "from numpy.random import seed\n",
        "from numpy.random import randn\n",
        "from statsmodels.graphics.gofplots import qqplot\n",
        "\n",
        "qqplot(Y, line='s')\n",
        "pyplot.show()"
      ],
      "execution_count": null,
      "outputs": [
        {
          "output_type": "display_data",
          "data": {
            "image/png": "[encoded data removed]",
            "text/plain": [
              "<Figure size 432x288 with 1 Axes>"
            ]
          },
          "metadata": {
            "tags": [],
            "needs_background": "light"
          }
        }
      ]
    },
    {
      "cell_type": "markdown",
      "metadata": {
        "id": "mexmbkkMfaXV"
      },
      "source": [
        "тест Шапиро-Вилка"
      ]
    },
    {
      "cell_type": "code",
      "metadata": {
        "colab": {
          "base_uri": "https://localhost:8080/"
        },
        "id": "rwvarhP7fYRz",
        "outputId": "1412efd6-8bc5-4b24-d8cf-f79d6facbbd6"
      },
      "source": [
        "from scipy.stats import shapiro\n",
        "\n",
        "stat, p = shapiro(Y)\n",
        "print('Statistics=%.3f, p=%.3f' % (stat, p))\n",
        "alpha=0.05\n",
        "if p>alpha:\n",
        "  print('Sample looks Gaussian (fail to reject H0)')\n",
        "else:\n",
        "  print('Sample does not Gaussian (reject H0)')"
      ],
      "execution_count": null,
      "outputs": [
        {
          "output_type": "stream",
          "text": [
            "Statistics=0.940, p=0.554\n",
            "Sample looks Gaussian (fail to reject H0)\n"
          ],
          "name": "stdout"
        }
      ]
    },
    {
      "cell_type": "markdown",
      "metadata": {
        "id": "1A38c0_lfsPo"
      },
      "source": [
        "тест д'Агостино на К^2"
      ]
    },
    {
      "cell_type": "code",
      "metadata": {
        "colab": {
          "base_uri": "https://localhost:8080/"
        },
        "id": "2N2seipkfqJ1",
        "outputId": "c928a5a2-9475-43f9-b2a8-8a30981e437c"
      },
      "source": [
        "from scipy.stats import normaltest\n",
        "\n",
        "stat, p = normaltest(Y)\n",
        "print('Statistics=%.3f, p=%.3f' % (stat, p))\n",
        "alpha=0.05\n",
        "if p>alpha:\n",
        "  print('Sample looks Gaussian (fail to reject H0)')\n",
        "else:\n",
        "  print('Sample does not Gaussian (reject H0)')\n"
      ],
      "execution_count": null,
      "outputs": [
        {
          "output_type": "stream",
          "text": [
            "Statistics=0.817, p=0.665\n",
            "Sample looks Gaussian (fail to reject H0)\n"
          ],
          "name": "stdout"
        },
        {
          "output_type": "stream",
          "text": [
            "/usr/local/lib/python3.7/dist-packages/scipy/stats/stats.py:1535: UserWarning: kurtosistest only valid for n>=20 ... continuing anyway, n=10\n",
            "  \"anyway, n=%i\" % int(n))\n"
          ],
          "name": "stderr"
        }
      ]
    },
    {
      "cell_type": "markdown",
      "metadata": {
        "id": "ZaoMYOgngLNj"
      },
      "source": [
        "тест Андерсона-Дарлинга\n",
        "\n",
        "\n",
        "\n"
      ]
    },
    {
      "cell_type": "code",
      "metadata": {
        "colab": {
          "base_uri": "https://localhost:8080/"
        },
        "id": "sWs2c5GKgIqQ",
        "outputId": "277abdd8-2bba-4a63-84d0-d95a872cf85d"
      },
      "source": [
        "from scipy.stats import anderson\n",
        "\n",
        "result = anderson(Y)\n",
        "print('Statistics: %.3f' % result.statistic)\n",
        "p=0\n",
        "for i in range(len(result.critical_values)):\n",
        "  sl, cv = result.significance_level[i], result.critical_values[i]\n",
        "  if result.statistic < result.critical_values[i]:\n",
        "    print('%.3f: %.3f, data looks normal (fail to reject H0)' % (sl,cv))\n",
        "  else:\n",
        "    print('%.3f: %.3f, data does not look normal (reject H0)' % (sl,cv))\n"
      ],
      "execution_count": null,
      "outputs": [
        {
          "output_type": "stream",
          "text": [
            "Statistics: 0.306\n",
            "15.000: 0.501, data looks normal (fail to reject H0)\n",
            "10.000: 0.570, data looks normal (fail to reject H0)\n",
            "5.000: 0.684, data looks normal (fail to reject H0)\n",
            "2.500: 0.798, data looks normal (fail to reject H0)\n",
            "1.000: 0.950, data looks normal (fail to reject H0)\n"
          ],
          "name": "stdout"
        }
      ]
    },
    {
      "cell_type": "markdown",
      "metadata": {
        "id": "F_zVz7d6iDgn"
      },
      "source": [
        "![Снимок экрана 2021-05-14 в 23.18.41.png](data:image/png;base64,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)"
      ]
    }
  ]
}