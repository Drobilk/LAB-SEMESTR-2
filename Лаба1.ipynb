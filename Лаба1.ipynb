{
  "nbformat": 4,
  "nbformat_minor": 0,
  "metadata": {
    "colab": {
      "name": "Лаба1",
      "provenance": [],
      "authorship_tag": "ABX9TyPkmcc7It+/4V9myHTlS4fS",
      "include_colab_link": true
    },
    "kernelspec": {
      "name": "python3",
      "display_name": "Python 3"
    }
  },
  "cells": [
    {
      "cell_type": "markdown",
      "metadata": {
        "id": "view-in-github",
        "colab_type": "text"
      },
      "source": [
        "<a href=\"https://colab.research.google.com/github/Drobilk/LAB-SEMESTR-2/blob/main/%D0%9B%D0%B0%D0%B1%D0%B01.ipynb\" target=\"_parent\"><img src=\"https://colab.research.google.com/assets/colab-badge.svg\" alt=\"Open In Colab\"/></a>"
      ]
    },
    {
      "cell_type": "markdown",
      "metadata": {
        "id": "Yf0QZZ4aNtIP"
      },
      "source": [
        "Лабораторная работа 1 "
      ]
    },
    {
      "cell_type": "code",
      "metadata": {
        "colab": {
          "base_uri": "https://localhost:8080/"
        },
        "id": "eO-UmTyJNv5g",
        "outputId": "859f7aab-ca84-44ce-c307-a059825ccef5"
      },
      "source": [
        "import numpy as np\n",
        "a = np.arange(30)\n",
        "a[::-1]"
      ],
      "execution_count": null,
      "outputs": [
        {
          "output_type": "execute_result",
          "data": {
            "text/plain": [
              "array([29, 28, 27, 26, 25, 24, 23, 22, 21, 20, 19, 18, 17, 16, 15, 14, 13,\n",
              "       12, 11, 10,  9,  8,  7,  6,  5,  4,  3,  2,  1,  0])"
            ]
          },
          "metadata": {
            "tags": []
          },
          "execution_count": 30
        }
      ]
    },
    {
      "cell_type": "code",
      "metadata": {
        "id": "CtoerohcP84t"
      },
      "source": [
        "import numpy as np \n",
        "b = np.arange(5)\n",
        "b = b[::-1]\n",
        "L = [1, 2, 3, 4, 5]\n",
        "L = L[:: -1]"
      ],
      "execution_count": null,
      "outputs": []
    },
    {
      "cell_type": "code",
      "metadata": {
        "colab": {
          "base_uri": "https://localhost:8080/"
        },
        "id": "MOY-uXWmS032",
        "outputId": "3a128936-2be6-43b5-f118-0f0f6c1c3f48"
      },
      "source": [
        "import timeit\n",
        "start_time = timeit.default_timer()\n",
        "L[:: -1]\n",
        "time1 = timeit.default_timer() - start_time\n",
        "start_time = timeit.default_timer()\n",
        "b[::-1]\n",
        "time2 = timeit.default_timer() - start_time\n",
        "print('function1 took', time1)\n",
        "print('function2 (with numpy) took', time2)"
      ],
      "execution_count": null,
      "outputs": [
        {
          "output_type": "stream",
          "text": [
            "function1 took 7.447300004059798e-05\n",
            "function2 (with numpy) took 6.807600016145443e-05\n"
          ],
          "name": "stdout"
        }
      ]
    }
  ]
}